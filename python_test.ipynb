{
 "cells": [
  {
   "cell_type": "markdown",
   "id": "2c18087e-44b7-4666-bd95-fd8eaff08e31",
   "metadata": {},
   "source": [
    "# ) Write a program to count the sub_string from main string\n",
    "Example:- A B C D C D C\n",
    "Sub_string= C D C result =2\n"
   ]
  },
  {
   "cell_type": "code",
   "execution_count": 1,
   "id": "fdced317-c075-45b5-9d22-762a79aa34d0",
   "metadata": {},
   "outputs": [
    {
     "name": "stdout",
     "output_type": "stream",
     "text": [
      "The substring 'CDC' appears 2 times in the main string.\n"
     ]
    }
   ],
   "source": [
    "def count_substring(main_string, sub_string):\n",
    "    count = 0\n",
    "    sub_length = len(sub_string)\n",
    "    \n",
    "    # Loop through the main string\n",
    "    for i in range(len(main_string) - sub_length + 1):\n",
    "        # Check if the substring matches the current slice of the main string\n",
    "        if main_string[i:i+sub_length] == sub_string:\n",
    "            count += 1\n",
    "            \n",
    "    return count\n",
    "\n",
    "# Example usage\n",
    "main_string = \"A B C D C D C\"\n",
    "sub_string = \"C D C\"\n",
    "\n",
    "\n",
    "main_string = main_string.replace(\" \", \"\")\n",
    "sub_string = sub_string.replace(\" \", \"\")\n",
    "\n",
    "result = count_substring(main_string, sub_string)\n",
    "print(f\"The substring '{sub_string}' appears {result} times in the main string.\")\n"
   ]
  },
  {
   "cell_type": "markdown",
   "id": "61c0045e-b048-4672-94b0-a33f1a9380ab",
   "metadata": {},
   "source": [
    "# Write a program to take 4 number and store in list \n",
    "[2,4,6,8] find the factorial of the each number of the list and store the value  in the list\n"
   ]
  },
  {
   "cell_type": "code",
   "execution_count": 5,
   "id": "c12ee2af-3803-4cac-bcdd-1b6303cfd671",
   "metadata": {},
   "outputs": [
    {
     "name": "stdout",
     "output_type": "stream",
     "text": [
      "Original list: [2, 4, 6, 8]\n",
      "Factorial list: [2, 24, 720, 40320]\n"
     ]
    }
   ],
   "source": [
    "import math\n",
    "\n",
    "# Initial list of numbers\n",
    "numbers = [2, 4, 6, 8]\n",
    "\n",
    "# Calculate the factorial for each number and store in a new list\n",
    "factorials = [math.factorial(num) for num in numbers]\n",
    "\n",
    "# Print the result\n",
    "print(\"Original list:\", numbers)\n",
    "print(\"Factorial list:\", factorials)\n"
   ]
  },
  {
   "cell_type": "markdown",
   "id": "ad1c45ec-4547-4b7e-bc66-2386b8aceddf",
   "metadata": {},
   "source": [
    "# A python program to access each element of a string in forward and reverse orders using while loop"
   ]
  },
  {
   "cell_type": "code",
   "execution_count": 12,
   "id": "c1d5fee6-ede7-46fa-b4df-909c26a20fd0",
   "metadata": {},
   "outputs": [
    {
     "name": "stdout",
     "output_type": "stream",
     "text": [
      "Forward order:\n",
      "H e l l o \n",
      "Reverse order:\n",
      "o l l e H "
     ]
    }
   ],
   "source": [
    "# Input string\n",
    "s = \"Hello\"\n",
    "\n",
    "# Forward order\n",
    "print(\"Forward order:\")\n",
    "i = 0\n",
    "while i < len(s):\n",
    "    print(s[i], end=\" \")\n",
    "    i += 1\n",
    "\n",
    "print()  # For a newline\n",
    "\n",
    "# Reverse order\n",
    "print(\"Reverse order:\")\n",
    "i = len(s) - 1\n",
    "while i >= 0:\n",
    "    print(s[i], end=\" \")\n",
    "    i -= 1\n"
   ]
  },
  {
   "cell_type": "markdown",
   "id": "9509fe12-9ac5-4aa8-aad3-a4453c1d18b1",
   "metadata": {},
   "source": [
    "# Write a python program to know whether a sub- string exists in main string\n",
    "\n"
   ]
  },
  {
   "cell_type": "code",
   "execution_count": 15,
   "id": "b5a98427-a09d-4a02-8d67-9d098396b18a",
   "metadata": {},
   "outputs": [
    {
     "name": "stdin",
     "output_type": "stream",
     "text": [
      "Enter the main string:  hello world\n",
      "Enter the substring to search:  world\n"
     ]
    },
    {
     "name": "stdout",
     "output_type": "stream",
     "text": [
      "The substring 'world' exists in the main string.\n"
     ]
    }
   ],
   "source": [
    "# Input the main string\n",
    "main_string = input(\"Enter the main string: \")\n",
    "\n",
    "# Input the substring\n",
    "substring = input(\"Enter the substring to search: \")\n",
    "\n",
    "# Check if the substring exists in the main string\n",
    "if substring in main_string:\n",
    "    print(f\"The substring '{substring}' exists in the main string.\")\n",
    "else:\n",
    "    print(f\"The substring '{substring}' does not exist in the main string.\")\n"
   ]
  },
  {
   "cell_type": "markdown",
   "id": "af0fea46-e014-4c35-8738-57b09f74e71f",
   "metadata": {},
   "source": [
    "# A python program to find the first occurrences of sub string in a given main string"
   ]
  },
  {
   "cell_type": "code",
   "execution_count": 17,
   "id": "d8dbeff0-b925-4edd-ada1-05c3f8866cc5",
   "metadata": {},
   "outputs": [
    {
     "name": "stdin",
     "output_type": "stream",
     "text": [
      "Enter the main string:  hello world\n",
      "Enter the substring to search:  world\n"
     ]
    },
    {
     "name": "stdout",
     "output_type": "stream",
     "text": [
      "The first occurrence of 'world' is at index 6.\n"
     ]
    }
   ],
   "source": [
    "# Input the main string\n",
    "main_string = input(\"Enter the main string: \")\n",
    "\n",
    "# Input the substring\n",
    "substring = input(\"Enter the substring to search: \")\n",
    "\n",
    "# Find the first occurrence of the substring\n",
    "position = main_string.find(substring)\n",
    "\n",
    "# Check if the substring is found\n",
    "if position != -1:\n",
    "    print(f\"The first occurrence of '{substring}' is at index {position}.\")\n",
    "else:\n",
    "    print(f\"The substring '{substring}' is not found in the main string.\")\n"
   ]
  },
  {
   "cell_type": "markdown",
   "id": "4a77f4dd-bc06-4f30-b8a2-d7faedeb7767",
   "metadata": {},
   "source": [
    "# A python program to insert a sub string in main string in a particular position"
   ]
  },
  {
   "cell_type": "code",
   "execution_count": 21,
   "id": "80cd4ed2-4439-4b32-881c-611fce88def6",
   "metadata": {},
   "outputs": [
    {
     "name": "stdin",
     "output_type": "stream",
     "text": [
      "Enter the main string:  hello world\n",
      "Enter the substring to insert:  world\n",
      "Enter the position to insert the substring:  6\n"
     ]
    },
    {
     "name": "stdout",
     "output_type": "stream",
     "text": [
      "The new string is: hello worldworld\n"
     ]
    }
   ],
   "source": [
    "# Input the main string\n",
    "main_string = input(\"Enter the main string: \")\n",
    "\n",
    "# Input the substring to insert\n",
    "substring = input(\"Enter the substring to insert: \")\n",
    "\n",
    "# Input the position where the substring should be inserted\n",
    "position = int(input(\"Enter the position to insert the substring: \"))\n",
    "\n",
    "# Ensure the position is within the valid range\n",
    "if position < 0 or position > len(main_string):\n",
    "    print(\"Invalid position. Please enter a position within the range of the main string.\")\n",
    "else:\n",
    "    # Insert the substring at the specified position\n",
    "    result_string = main_string[:position] + substring + main_string[position:]\n",
    "\n",
    "    # Print the resulting string\n",
    "    print(\"The new string is:\", result_string)\n"
   ]
  },
  {
   "cell_type": "markdown",
   "id": "73917d9d-1d1e-4283-af67-45fcefbefd97",
   "metadata": {},
   "source": [
    "# Generate an infinitye fibonaaci series by using generator yield"
   ]
  },
  {
   "cell_type": "code",
   "execution_count": 24,
   "id": "048badd9-beec-4412-b077-9cdc69e1e4bf",
   "metadata": {},
   "outputs": [
    {
     "name": "stdout",
     "output_type": "stream",
     "text": [
      "0\n",
      "1\n",
      "1\n",
      "2\n",
      "3\n",
      "5\n",
      "8\n",
      "13\n",
      "21\n",
      "34\n"
     ]
    }
   ],
   "source": [
    "def infinite_fibonacci():\n",
    "    a, b = 0, 1\n",
    "    while True:\n",
    "        yield a\n",
    "        a, b = b, a + b\n",
    "\n",
    "# Create a generator object\n",
    "fib_gen = infinite_fibonacci()\n",
    "\n",
    "# Example: Print the first 10 numbers in the Fibonacci series\n",
    "for _ in range(10):\n",
    "    print(next(fib_gen))\n"
   ]
  },
  {
   "cell_type": "markdown",
   "id": "5cbd0040-f6e3-40c4-b501-13939f4f124d",
   "metadata": {},
   "source": [
    "#  Checking of the vowels inside the string"
   ]
  },
  {
   "cell_type": "code",
   "execution_count": 26,
   "id": "a5b0ade1-cf10-486a-aa80-c3839680fe9a",
   "metadata": {},
   "outputs": [
    {
     "name": "stdin",
     "output_type": "stream",
     "text": [
      "Enter a string:  hello world\n"
     ]
    },
    {
     "name": "stdout",
     "output_type": "stream",
     "text": [
      "The string contains 3 vowels: e, o, o\n"
     ]
    }
   ],
   "source": [
    "# Input the string\n",
    "input_string = input(\"Enter a string: \")\n",
    "\n",
    "# Define the vowels\n",
    "vowels = \"aeiouAEIOU\"\n",
    "\n",
    "# Initialize a count for vowels\n",
    "vowel_count = 0\n",
    "\n",
    "# List to store found vowels\n",
    "found_vowels = []\n",
    "\n",
    "# Iterate through the string and check for vowels\n",
    "for char in input_string:\n",
    "    if char in vowels:\n",
    "        vowel_count += 1\n",
    "        found_vowels.append(char)\n",
    "\n",
    "# Print the results\n",
    "if vowel_count > 0:\n",
    "    print(f\"The string contains {vowel_count} vowels: {', '.join(found_vowels)}\")\n",
    "else:\n",
    "    print(\"The string does not contain any vowels.\")\n",
    "\n"
   ]
  },
  {
   "cell_type": "code",
   "execution_count": null,
   "id": "9efd0faf-b226-4c15-b443-0e57689f61aa",
   "metadata": {},
   "outputs": [],
   "source": []
  }
 ],
 "metadata": {
  "kernelspec": {
   "display_name": "Python 3 (ipykernel)",
   "language": "python",
   "name": "python3"
  },
  "language_info": {
   "codemirror_mode": {
    "name": "ipython",
    "version": 3
   },
   "file_extension": ".py",
   "mimetype": "text/x-python",
   "name": "python",
   "nbconvert_exporter": "python",
   "pygments_lexer": "ipython3",
   "version": "3.12.4"
  }
 },
 "nbformat": 4,
 "nbformat_minor": 5
}
